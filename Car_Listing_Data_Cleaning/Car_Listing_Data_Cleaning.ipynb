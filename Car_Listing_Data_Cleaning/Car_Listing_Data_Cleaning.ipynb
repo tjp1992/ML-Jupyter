{
 "cells": [
  {
   "cell_type": "markdown",
   "metadata": {},
   "source": [
    "# Used Cars Data Cleaning\n",
    "\n",
    "In this guided project, we'll work with a dataset of used cars from *ebay Kleinanzeigen*, a [classfields]('https://en.wikipedia.org/wiki/Classified_advertising') section of the German eBay website.\n",
    "\n",
    "The dataset was originally [scaped]('https://en.wikipedia.org/wiki/Web_scraping') and uploaded to Kaggle by user [orgesleka]('https://www.kaggle.com/orgesleka').\n",
    "The original dataset isn't available on Kaggle anymore, but it can be found [here]('https://data.world/data-society/used-cars-data')\n",
    "\n",
    "The data dictionary provided with data is as follows:\n",
    "\n",
    "- `dateCrawled` -  When this ad was first crawled. All field-values are taken from this date\n",
    "- `name` - Name of the Car\n",
    "- `seller` - Whether the seller is private or a dealer\n",
    "- `offerType` - the type of listing\n",
    "- `price` - The price on the ad to sell the car.\n",
    "- `abtest` - Whether the listing is included in an A/B test.\n",
    "- `vehicleType` - The vehicle Type\n",
    "- `yearOfRegistration` - The year in which the car was first registered.\n",
    "- `gearbox` - The transmission type\n",
    "- `powerPS` - The power of the car in PS.\n",
    "- `model` - The car model name.\n",
    "- `kilometer` - How many kilometers the car has driven\n",
    "- `monthOfRegistration` - "
   ]
  }
 ],
 "metadata": {
  "kernelspec": {
   "display_name": "Python 3",
   "language": "python",
   "name": "python3"
  },
  "language_info": {
   "codemirror_mode": {
    "name": "ipython",
    "version": 3
   },
   "file_extension": ".py",
   "mimetype": "text/x-python",
   "name": "python",
   "nbconvert_exporter": "python",
   "pygments_lexer": "ipython3",
   "version": "3.7.6"
  }
 },
 "nbformat": 4,
 "nbformat_minor": 4
}
