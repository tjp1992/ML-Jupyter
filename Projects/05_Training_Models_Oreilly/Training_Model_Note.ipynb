{
  "nbformat": 4,
  "nbformat_minor": 0,
  "metadata": {
    "colab": {
      "name": "Training_Model_Note.ipynb",
      "provenance": [],
      "authorship_tag": "ABX9TyOEdG/9FVdMV23AAjmMqesi",
      "include_colab_link": true
    },
    "kernelspec": {
      "name": "python3",
      "display_name": "Python 3"
    },
    "language_info": {
      "name": "python"
    }
  },
  "cells": [
    {
      "cell_type": "markdown",
      "metadata": {
        "id": "view-in-github",
        "colab_type": "text"
      },
      "source": [
        "<a href=\"https://colab.research.google.com/github/tjp1992/ML-Jupyter/blob/main/Projects/05_Training_Models_Oreilly/Training_Model_Note.ipynb\" target=\"_parent\"><img src=\"https://colab.research.google.com/assets/colab-badge.svg\" alt=\"Open In Colab\"/></a>"
      ]
    },
    {
      "cell_type": "markdown",
      "source": [
        "# Training Model\n",
        "\n",
        "The Following Notebook is intended for study purposes only, the following file contains notes and follow up codes from [Hands on Machine Learning with Scikit-Learn and Tensorflow](https://www.amazon.com/s?k=hands+on+machine+learning+with+scikit-learn+and+tensorflow&sprefix=hands+on+ma%2Caps%2C326&ref=nb_sb_ss_ts-doa-p_4_11)."
      ],
      "metadata": {
        "id": "yQKdUyJodSuu"
      }
    },
    {
      "cell_type": "code",
      "source": [
        ""
      ],
      "metadata": {
        "id": "J9xcp2HPd653"
      },
      "execution_count": null,
      "outputs": []
    }
  ]
}