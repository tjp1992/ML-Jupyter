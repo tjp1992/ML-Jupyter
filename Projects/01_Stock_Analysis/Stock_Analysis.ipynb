{
  "cells": [
    {
      "cell_type": "markdown",
      "metadata": {
        "id": "view-in-github",
        "colab_type": "text"
      },
      "source": [
        "<a href=\"https://colab.research.google.com/github/tjp1992/ML-Jupyter/blob/main/Projects/01_Stock_Analysis/Stock_Analysis.ipynb\" target=\"_parent\"><img src=\"https://colab.research.google.com/assets/colab-badge.svg\" alt=\"Open In Colab\"/></a>"
      ]
    },
    {
      "cell_type": "markdown",
      "metadata": {
        "id": "6J_LlsTtLrXy"
      },
      "source": [
        "# Stock Analysis\n",
        "\n",
        "**Following Project is intended to find the most optimal model for stock prediction**\n",
        "\n",
        "The sole purpose for majority that invests in stock is to make profit, but not everyone gets to make profit from their investment due to the fact that not everyone is a skilled stock analyst. The goal of this project is not to make a complicated model that will predict the closing price of certain stock, but to make a classification model to predict whether the stock will increase or decrease the next day. \n",
        "\n",
        "Thus, we want to maximize our `True Positives` - days when algorithm predicts that the price will go up, and it actually goes up. Therefore, we'll be using precision as our error metric for the algorithm, which is `True Positives / (False Positives + True Positives)`, basically percentage of `True Positives` out of all our predictions. This will ensure minimization of loss with `False Positives`(Days when the stock has been purchased, but the price actually goes down).\n",
        "\n",
        "This means that we will have to accept a lot of `False Negatives` - days when we predict that the price will go down, but it actually goes up. \n",
        "\n",
        "### Method\n",
        "\n",
        "Before heading straight into machine learning, as it is with any other machine learning models we'll make in the future acquiring data and cleaning up the data is mandatory. The following steps will be taken:\n",
        "\n",
        "- Download historical stock prices from Yahoo Finance\n",
        "- Explore the Data\n",
        "- Setup the dataset to predict future prices using historical prices\n",
        "- Test a machine learning model\n",
        "- Setup a backtesting engine\n",
        "- Improve the accuracy of the model\n",
        "\n",
        "At the end, potential future directions will documented to improve the technique."
      ]
    },
    {
      "cell_type": "markdown",
      "metadata": {
        "id": "n2lC_w6VLrX8"
      },
      "source": [
        "### Downloading the Data\n",
        "\n",
        "First, we'll download the data from Yahoo Finance. We'll save the data after we download it to prevent our IP from being blocked.\n",
        "\n",
        "A Single stock(Microsoft) will be used for our model."
      ]
    },
    {
      "cell_type": "code",
      "execution_count": null,
      "metadata": {
        "id": "fsqGiRDWLrX-"
      },
      "outputs": [],
      "source": [
        "# Import Finance API and get historical stock data\n",
        "\n",
        "import yfinance as yf\n",
        "import os\n",
        "import json\n",
        "import pandas as pd\n",
        "\n",
        "DATA_PATH = 'msft_data.json'\n",
        "\n",
        "if os.path.exists(DATA_PATH):\n",
        "    # Read from file if we already downloaded the data\n",
        "    with open(DATA_PATH) as f:\n",
        "        msft_hist = pd.read_json(DATA_PATH)\n",
        "else:\n",
        "    msft = yf.Ticker(\"MSFT\")\n",
        "    msft_hist = msft.history(period='max')\n",
        "    \n",
        "    # Save file to json in case we need to use it later. This prevents downloading the data from \n",
        "    # Yahoo Finance every time we restart the kernel\n",
        "    msft_hist.to_json(DATA_PATH)\n",
        "    "
      ]
    },
    {
      "cell_type": "code",
      "execution_count": null,
      "metadata": {
        "scrolled": true,
        "id": "-oUqUJ7TLrYC",
        "outputId": "12664141-0e9c-47eb-af98-ded87eaf8034"
      },
      "outputs": [
        {
          "data": {
            "text/html": [
              "<div>\n",
              "<style scoped>\n",
              "    .dataframe tbody tr th:only-of-type {\n",
              "        vertical-align: middle;\n",
              "    }\n",
              "\n",
              "    .dataframe tbody tr th {\n",
              "        vertical-align: top;\n",
              "    }\n",
              "\n",
              "    .dataframe thead th {\n",
              "        text-align: right;\n",
              "    }\n",
              "</style>\n",
              "<table border=\"1\" class=\"dataframe\">\n",
              "  <thead>\n",
              "    <tr style=\"text-align: right;\">\n",
              "      <th></th>\n",
              "      <th>Open</th>\n",
              "      <th>High</th>\n",
              "      <th>Low</th>\n",
              "      <th>Close</th>\n",
              "      <th>Volume</th>\n",
              "      <th>Dividends</th>\n",
              "      <th>Stock Splits</th>\n",
              "    </tr>\n",
              "  </thead>\n",
              "  <tbody>\n",
              "    <tr>\n",
              "      <th>1986-03-13</th>\n",
              "      <td>0.055898</td>\n",
              "      <td>0.064119</td>\n",
              "      <td>0.055898</td>\n",
              "      <td>0.061378</td>\n",
              "      <td>1031788800</td>\n",
              "      <td>0.0</td>\n",
              "      <td>0.0</td>\n",
              "    </tr>\n",
              "    <tr>\n",
              "      <th>1986-03-14</th>\n",
              "      <td>0.061378</td>\n",
              "      <td>0.064667</td>\n",
              "      <td>0.061378</td>\n",
              "      <td>0.063570</td>\n",
              "      <td>308160000</td>\n",
              "      <td>0.0</td>\n",
              "      <td>0.0</td>\n",
              "    </tr>\n",
              "    <tr>\n",
              "      <th>1986-03-17</th>\n",
              "      <td>0.063570</td>\n",
              "      <td>0.065215</td>\n",
              "      <td>0.063570</td>\n",
              "      <td>0.064667</td>\n",
              "      <td>133171200</td>\n",
              "      <td>0.0</td>\n",
              "      <td>0.0</td>\n",
              "    </tr>\n",
              "    <tr>\n",
              "      <th>1986-03-18</th>\n",
              "      <td>0.064667</td>\n",
              "      <td>0.065215</td>\n",
              "      <td>0.062474</td>\n",
              "      <td>0.063022</td>\n",
              "      <td>67766400</td>\n",
              "      <td>0.0</td>\n",
              "      <td>0.0</td>\n",
              "    </tr>\n",
              "    <tr>\n",
              "      <th>1986-03-19</th>\n",
              "      <td>0.063022</td>\n",
              "      <td>0.063570</td>\n",
              "      <td>0.061378</td>\n",
              "      <td>0.061926</td>\n",
              "      <td>47894400</td>\n",
              "      <td>0.0</td>\n",
              "      <td>0.0</td>\n",
              "    </tr>\n",
              "  </tbody>\n",
              "</table>\n",
              "</div>"
            ],
            "text/plain": [
              "                Open      High       Low     Close      Volume  Dividends  \\\n",
              "1986-03-13  0.055898  0.064119  0.055898  0.061378  1031788800        0.0   \n",
              "1986-03-14  0.061378  0.064667  0.061378  0.063570   308160000        0.0   \n",
              "1986-03-17  0.063570  0.065215  0.063570  0.064667   133171200        0.0   \n",
              "1986-03-18  0.064667  0.065215  0.062474  0.063022    67766400        0.0   \n",
              "1986-03-19  0.063022  0.063570  0.061378  0.061926    47894400        0.0   \n",
              "\n",
              "            Stock Splits  \n",
              "1986-03-13           0.0  \n",
              "1986-03-14           0.0  \n",
              "1986-03-17           0.0  \n",
              "1986-03-18           0.0  \n",
              "1986-03-19           0.0  "
            ]
          },
          "execution_count": 2,
          "metadata": {},
          "output_type": "execute_result"
        }
      ],
      "source": [
        "msft_hist.head()"
      ]
    },
    {
      "cell_type": "markdown",
      "metadata": {
        "id": "-HZWAGGELrYE"
      },
      "source": [
        "As seen above, one row of the data represents each day that Microsoft stock was traded.\n",
        "The columns are as following:\n",
        "\n",
        "- Open   - The price the stock opened at\n",
        "- High   - Highest price during the day\n",
        "- Low    - Lowest Price During the day\n",
        "- Close  - the closing price on the trading day\n",
        "- Volume - How many Shares were traded\n",
        "\n",
        "Stock doesn't trade everyday (there is no trading on weekends and holidays), so some dates are bound to be missing.\n",
        "\n",
        "Next, we'll plot the data so we can see how the stock price has changed over time, This gives us another overview of the structure of the data."
      ]
    },
    {
      "cell_type": "code",
      "execution_count": null,
      "metadata": {
        "id": "eoA0MeFZLrYF",
        "outputId": "a8468575-605b-4cc7-db7b-d14364b5d5fd"
      },
      "outputs": [
        {
          "data": {
            "text/plain": [
              "<matplotlib.axes._subplots.AxesSubplot at 0xb230090>"
            ]
          },
          "execution_count": 3,
          "metadata": {},
          "output_type": "execute_result"
        },
        {
          "data": {
            "image/png": "[encoded data removed]",
            "text/plain": [
              "<Figure size 432x288 with 1 Axes>"
            ]
          },
          "metadata": {
            "needs_background": "light"
          },
          "output_type": "display_data"
        }
      ],
      "source": [
        "# Visualize microsoft stock prices\n",
        "msft_hist.plot.line(y='Close', use_index=True)"
      ]
    },
    {
      "cell_type": "markdown",
      "metadata": {
        "id": "ieDgTNC9LrYH"
      },
      "source": [
        "### Preparing the Data\n",
        "\n",
        "Now that the data has been prepared, we can start making predictions for the price.\n",
        "\n",
        "First, we'll identify a target that we're trying to predict. Our target will be if the price will go up or down tomorrow. If the price went up, the target will be `1` and if it went down, the target will be `0`.\n",
        "\n",
        "Next, we'll shift the data from previous days 'forward' one day, so we can use it to predict the target price. This ensure that we don't accidentally use data from the same day to make predictions.\n",
        "\n",
        "Then, we'll combine both so we have our training data."
      ]
    },
    {
      "cell_type": "code",
      "execution_count": null,
      "metadata": {
        "id": "EcP_S4kkLrYI"
      },
      "outputs": [],
      "source": [
        "# Ensure we know the actual closing price\n",
        "data = msft_hist[[\"Close\"]]\n",
        "data = data.rename(columns = {'Close':'Actual_Close'})\n",
        "\n",
        "# Setup our target.  This identifies if the price went up or down\n",
        "data[\"Target\"] = msft_hist.rolling(2).apply(lambda x: x.iloc[1] > x.iloc[0])[\"Close\"]"
      ]
    },
    {
      "cell_type": "code",
      "execution_count": null,
      "metadata": {
        "id": "W866UJoZLrYI",
        "outputId": "bad6a054-9c1b-4c63-a221-31f40360d628"
      },
      "outputs": [
        {
          "data": {
            "text/html": [
              "<div>\n",
              "<style scoped>\n",
              "    .dataframe tbody tr th:only-of-type {\n",
              "        vertical-align: middle;\n",
              "    }\n",
              "\n",
              "    .dataframe tbody tr th {\n",
              "        vertical-align: top;\n",
              "    }\n",
              "\n",
              "    .dataframe thead th {\n",
              "        text-align: right;\n",
              "    }\n",
              "</style>\n",
              "<table border=\"1\" class=\"dataframe\">\n",
              "  <thead>\n",
              "    <tr style=\"text-align: right;\">\n",
              "      <th></th>\n",
              "      <th>Actual_Close</th>\n",
              "      <th>Target</th>\n",
              "    </tr>\n",
              "  </thead>\n",
              "  <tbody>\n",
              "    <tr>\n",
              "      <th>1986-03-13</th>\n",
              "      <td>0.061378</td>\n",
              "      <td>NaN</td>\n",
              "    </tr>\n",
              "    <tr>\n",
              "      <th>1986-03-14</th>\n",
              "      <td>0.063570</td>\n",
              "      <td>1.0</td>\n",
              "    </tr>\n",
              "    <tr>\n",
              "      <th>1986-03-17</th>\n",
              "      <td>0.064667</td>\n",
              "      <td>1.0</td>\n",
              "    </tr>\n",
              "    <tr>\n",
              "      <th>1986-03-18</th>\n",
              "      <td>0.063022</td>\n",
              "      <td>0.0</td>\n",
              "    </tr>\n",
              "    <tr>\n",
              "      <th>1986-03-19</th>\n",
              "      <td>0.061926</td>\n",
              "      <td>0.0</td>\n",
              "    </tr>\n",
              "  </tbody>\n",
              "</table>\n",
              "</div>"
            ],
            "text/plain": [
              "            Actual_Close  Target\n",
              "1986-03-13      0.061378     NaN\n",
              "1986-03-14      0.063570     1.0\n",
              "1986-03-17      0.064667     1.0\n",
              "1986-03-18      0.063022     0.0\n",
              "1986-03-19      0.061926     0.0"
            ]
          },
          "execution_count": 7,
          "metadata": {},
          "output_type": "execute_result"
        }
      ],
      "source": [
        "data.head(5)"
      ]
    },
    {
      "cell_type": "code",
      "execution_count": null,
      "metadata": {
        "id": "UdwsOyoELrYJ"
      },
      "outputs": [],
      "source": [
        "# Shift stock prices forward one day, so we're predicting tomorrow's stock prices from t\n",
        "# today's prices.\n",
        "msft_prev = msft_hist.copy()\n",
        "msft_prev = msft_prev.shift(1)"
      ]
    },
    {
      "cell_type": "code",
      "execution_count": null,
      "metadata": {
        "id": "t7kqHZ5tLrYK",
        "outputId": "00da8f09-9268-4e75-ccc8-809a73dd04fd"
      },
      "outputs": [
        {
          "data": {
            "text/html": [
              "<div>\n",
              "<style scoped>\n",
              "    .dataframe tbody tr th:only-of-type {\n",
              "        vertical-align: middle;\n",
              "    }\n",
              "\n",
              "    .dataframe tbody tr th {\n",
              "        vertical-align: top;\n",
              "    }\n",
              "\n",
              "    .dataframe thead th {\n",
              "        text-align: right;\n",
              "    }\n",
              "</style>\n",
              "<table border=\"1\" class=\"dataframe\">\n",
              "  <thead>\n",
              "    <tr style=\"text-align: right;\">\n",
              "      <th></th>\n",
              "      <th>Open</th>\n",
              "      <th>High</th>\n",
              "      <th>Low</th>\n",
              "      <th>Close</th>\n",
              "      <th>Volume</th>\n",
              "      <th>Dividends</th>\n",
              "      <th>Stock Splits</th>\n",
              "    </tr>\n",
              "  </thead>\n",
              "  <tbody>\n",
              "    <tr>\n",
              "      <th>1986-03-13</th>\n",
              "      <td>NaN</td>\n",
              "      <td>NaN</td>\n",
              "      <td>NaN</td>\n",
              "      <td>NaN</td>\n",
              "      <td>NaN</td>\n",
              "      <td>NaN</td>\n",
              "      <td>NaN</td>\n",
              "    </tr>\n",
              "    <tr>\n",
              "      <th>1986-03-14</th>\n",
              "      <td>0.055898</td>\n",
              "      <td>0.064119</td>\n",
              "      <td>0.055898</td>\n",
              "      <td>0.061378</td>\n",
              "      <td>1.031789e+09</td>\n",
              "      <td>0.0</td>\n",
              "      <td>0.0</td>\n",
              "    </tr>\n",
              "    <tr>\n",
              "      <th>1986-03-17</th>\n",
              "      <td>0.061378</td>\n",
              "      <td>0.064667</td>\n",
              "      <td>0.061378</td>\n",
              "      <td>0.063570</td>\n",
              "      <td>3.081600e+08</td>\n",
              "      <td>0.0</td>\n",
              "      <td>0.0</td>\n",
              "    </tr>\n",
              "    <tr>\n",
              "      <th>1986-03-18</th>\n",
              "      <td>0.063570</td>\n",
              "      <td>0.065215</td>\n",
              "      <td>0.063570</td>\n",
              "      <td>0.064667</td>\n",
              "      <td>1.331712e+08</td>\n",
              "      <td>0.0</td>\n",
              "      <td>0.0</td>\n",
              "    </tr>\n",
              "    <tr>\n",
              "      <th>1986-03-19</th>\n",
              "      <td>0.064667</td>\n",
              "      <td>0.065215</td>\n",
              "      <td>0.062474</td>\n",
              "      <td>0.063022</td>\n",
              "      <td>6.776640e+07</td>\n",
              "      <td>0.0</td>\n",
              "      <td>0.0</td>\n",
              "    </tr>\n",
              "  </tbody>\n",
              "</table>\n",
              "</div>"
            ],
            "text/plain": [
              "                Open      High       Low     Close        Volume  Dividends  \\\n",
              "1986-03-13       NaN       NaN       NaN       NaN           NaN        NaN   \n",
              "1986-03-14  0.055898  0.064119  0.055898  0.061378  1.031789e+09        0.0   \n",
              "1986-03-17  0.061378  0.064667  0.061378  0.063570  3.081600e+08        0.0   \n",
              "1986-03-18  0.063570  0.065215  0.063570  0.064667  1.331712e+08        0.0   \n",
              "1986-03-19  0.064667  0.065215  0.062474  0.063022  6.776640e+07        0.0   \n",
              "\n",
              "            Stock Splits  \n",
              "1986-03-13           NaN  \n",
              "1986-03-14           0.0  \n",
              "1986-03-17           0.0  \n",
              "1986-03-18           0.0  \n",
              "1986-03-19           0.0  "
            ]
          },
          "execution_count": 11,
          "metadata": {},
          "output_type": "execute_result"
        }
      ],
      "source": [
        "msft_prev.head(5)"
      ]
    },
    {
      "cell_type": "code",
      "execution_count": null,
      "metadata": {
        "id": "8TAZVmVYLrYL",
        "outputId": "ff4035cb-762e-4a62-8e69-0a4d8f209480"
      },
      "outputs": [
        {
          "data": {
            "text/html": [
              "<div>\n",
              "<style scoped>\n",
              "    .dataframe tbody tr th:only-of-type {\n",
              "        vertical-align: middle;\n",
              "    }\n",
              "\n",
              "    .dataframe tbody tr th {\n",
              "        vertical-align: top;\n",
              "    }\n",
              "\n",
              "    .dataframe thead th {\n",
              "        text-align: right;\n",
              "    }\n",
              "</style>\n",
              "<table border=\"1\" class=\"dataframe\">\n",
              "  <thead>\n",
              "    <tr style=\"text-align: right;\">\n",
              "      <th></th>\n",
              "      <th>Open</th>\n",
              "      <th>High</th>\n",
              "      <th>Low</th>\n",
              "      <th>Close</th>\n",
              "      <th>Volume</th>\n",
              "      <th>Dividends</th>\n",
              "      <th>Stock Splits</th>\n",
              "    </tr>\n",
              "  </thead>\n",
              "  <tbody>\n",
              "    <tr>\n",
              "      <th>1986-03-13</th>\n",
              "      <td>0.055898</td>\n",
              "      <td>0.064119</td>\n",
              "      <td>0.055898</td>\n",
              "      <td>0.061378</td>\n",
              "      <td>1031788800</td>\n",
              "      <td>0.0</td>\n",
              "      <td>0.0</td>\n",
              "    </tr>\n",
              "    <tr>\n",
              "      <th>1986-03-14</th>\n",
              "      <td>0.061378</td>\n",
              "      <td>0.064667</td>\n",
              "      <td>0.061378</td>\n",
              "      <td>0.063570</td>\n",
              "      <td>308160000</td>\n",
              "      <td>0.0</td>\n",
              "      <td>0.0</td>\n",
              "    </tr>\n",
              "    <tr>\n",
              "      <th>1986-03-17</th>\n",
              "      <td>0.063570</td>\n",
              "      <td>0.065215</td>\n",
              "      <td>0.063570</td>\n",
              "      <td>0.064667</td>\n",
              "      <td>133171200</td>\n",
              "      <td>0.0</td>\n",
              "      <td>0.0</td>\n",
              "    </tr>\n",
              "    <tr>\n",
              "      <th>1986-03-18</th>\n",
              "      <td>0.064667</td>\n",
              "      <td>0.065215</td>\n",
              "      <td>0.062474</td>\n",
              "      <td>0.063022</td>\n",
              "      <td>67766400</td>\n",
              "      <td>0.0</td>\n",
              "      <td>0.0</td>\n",
              "    </tr>\n",
              "    <tr>\n",
              "      <th>1986-03-19</th>\n",
              "      <td>0.063022</td>\n",
              "      <td>0.063570</td>\n",
              "      <td>0.061378</td>\n",
              "      <td>0.061926</td>\n",
              "      <td>47894400</td>\n",
              "      <td>0.0</td>\n",
              "      <td>0.0</td>\n",
              "    </tr>\n",
              "  </tbody>\n",
              "</table>\n",
              "</div>"
            ],
            "text/plain": [
              "                Open      High       Low     Close      Volume  Dividends  \\\n",
              "1986-03-13  0.055898  0.064119  0.055898  0.061378  1031788800        0.0   \n",
              "1986-03-14  0.061378  0.064667  0.061378  0.063570   308160000        0.0   \n",
              "1986-03-17  0.063570  0.065215  0.063570  0.064667   133171200        0.0   \n",
              "1986-03-18  0.064667  0.065215  0.062474  0.063022    67766400        0.0   \n",
              "1986-03-19  0.063022  0.063570  0.061378  0.061926    47894400        0.0   \n",
              "\n",
              "            Stock Splits  \n",
              "1986-03-13           0.0  \n",
              "1986-03-14           0.0  \n",
              "1986-03-17           0.0  \n",
              "1986-03-18           0.0  \n",
              "1986-03-19           0.0  "
            ]
          },
          "execution_count": 12,
          "metadata": {},
          "output_type": "execute_result"
        }
      ],
      "source": [
        "msft_hist.head(5)"
      ]
    },
    {
      "cell_type": "code",
      "execution_count": null,
      "metadata": {
        "id": "Cx-5tPauLrYM"
      },
      "outputs": [],
      "source": [
        "# Create our training data\n",
        "predictors = ['Close','Volume','Open','High','Low']\n",
        "data = data.join(msft_prev[predictors]).iloc[1:]"
      ]
    },
    {
      "cell_type": "code",
      "execution_count": null,
      "metadata": {
        "id": "gONUkT6aLrYM"
      },
      "outputs": [],
      "source": [
        "data.head(5)"
      ]
    },
    {
      "cell_type": "markdown",
      "metadata": {
        "id": "rJ1gX1CGLrYN"
      },
      "source": [
        "### Creating a machine learning model\n",
        "\n",
        "\n",
        "\n"
      ]
    },
    {
      "cell_type": "code",
      "source": [
        "import requests\n",
        "import pandas as pd\n",
        "import numpy as np\n",
        "import plotly.graph_objects as go\n",
        "\n",
        "# urls = 'https://iex.lewagon.com/stable/stock/aapl/chart/3m'\n",
        "# urls = 'https://iex.lewagon.com/stable/stock//chart/3m'\n",
        "# urls = 'https://iex.lewagon.com/ref-data/exchanges'\n",
        "\n",
        "# Calls the URL to get the stock code (ticker)\n",
        "def get_data(ticker):\n",
        "    urls = 'https://iex.lewagon.com/stable/search/{}'\n",
        "    api_data = requests.get(urls.format(ticker)).json()\n",
        "\n",
        "    symbol = \"\"\n",
        "    for stock in api_data:\n",
        "        if 'KR' == stock['region']:\n",
        "            symbol = stock['symbol']\n",
        "\n",
        "    url = 'https://iex.lewagon.com/stable/stock/{}/chart/1y'\n",
        "    result = requests.get(url.format(symbol)).json()\n",
        "    result\n",
        "    df = pd.DataFrame(result)\n",
        "    df['date'] = pd.to_datetime(df['date'])\n",
        "    df = df.set_index('date')\n",
        "    return df"
      ],
      "metadata": {
        "id": "BcbKtzvoMS8A"
      },
      "execution_count": 1,
      "outputs": []
    },
    {
      "cell_type": "code",
      "source": [
        "api_data = get_data()"
      ],
      "metadata": {
        "id": "D_TmYw_5NE5_",
        "outputId": "ce8edf07-ff8c-4e7e-c478-8c9842b48b63",
        "colab": {
          "base_uri": "https://localhost:8080/",
          "height": 137
        }
      },
      "execution_count": 12,
      "outputs": [
        {
          "output_type": "error",
          "ename": "SyntaxError",
          "evalue": "ignored",
          "traceback": [
            "\u001b[0;36m  File \u001b[0;32m\"<ipython-input-12-46ff1804a5f5>\"\u001b[0;36m, line \u001b[0;32m1\u001b[0m\n\u001b[0;31m    api_data = get_data(060310)\u001b[0m\n\u001b[0m                             ^\u001b[0m\n\u001b[0;31mSyntaxError\u001b[0m\u001b[0;31m:\u001b[0m invalid token\n"
          ]
        }
      ]
    },
    {
      "cell_type": "code",
      "source": [
        "df = api_data"
      ],
      "metadata": {
        "id": "Ez7UM6jiNIQ2"
      },
      "execution_count": 14,
      "outputs": []
    },
    {
      "cell_type": "code",
      "source": [
        "import requests\n",
        "from bs4 import BeautifulSoup\n",
        "\n",
        "response = requests.get(\"https://global.krx.co.kr/contents/GLB/03/0308/0308010000/GLB0308010000.jsp\", headers={\"Accept-Language\":\"en-US\"})\n",
        "soup = BeautifulSoup(response.content, \"html.parser\")\n",
        "\n",
        "print(soup)"
      ],
      "metadata": {
        "id": "ZugEA5tJSqZT"
      },
      "execution_count": null,
      "outputs": []
    },
    {
      "cell_type": "code",
      "source": [
        "stock_info = []\n",
        "\n",
        "table = soup.find('tbody', class_='CI-GRID-BODY-TABLE-TBODY')\n",
        "\n",
        "print(table)\n",
        "\n",
        "# for code in table.find_all(\n",
        "#     \"tr\", \n",
        "#     # class_=\"\", \n",
        "#     # attrs=''\n",
        "#     ):\n",
        "#     columns = code.find_all('td')\n",
        "#     # title = movie.find(\"h3\").find(\"a\").string\n",
        "#     # duration = int(movie.find(\"span\", class_=\"runtime\").string.strip(' min'))\n",
        "#     # movies.append({'title': title, 'duration': duration})\n",
        "\n",
        "# print(stock_info)"
      ],
      "metadata": {
        "id": "oD1OjYKxfGxg",
        "outputId": "2f89955a-591b-4d24-f4cb-c2119c10faf0",
        "colab": {
          "base_uri": "https://localhost:8080/"
        }
      },
      "execution_count": 26,
      "outputs": [
        {
          "output_type": "stream",
          "name": "stdout",
          "text": [
            "None\n"
          ]
        }
      ]
    },
    {
      "cell_type": "code",
      "source": [
        "symbol = \"\"\n",
        "\n",
        "\n",
        "\n",
        "for li in api_data:\n",
        "  if 'KR' == li['region']:\n",
        "    symbol = li['symbol']\n",
        "\n",
        "url = 'https://iex.lewagon.com/stable/stock/{}/chart/1y'\n",
        "result = requests.get(url.format(symbol)).json()\n",
        "result\n",
        "df = pd.DataFrame(result)\n",
        "df['date'] = pd.to_datetime(df['date'])\n",
        "df = df.set_index('date')\n",
        "df = get_data(159580)"
      ],
      "metadata": {
        "id": "U5Y5G9NHMTop",
        "outputId": "a62158f8-23c3-4b59-b905-5aeed59711c8",
        "colab": {
          "base_uri": "https://localhost:8080/",
          "height": 382
        }
      },
      "execution_count": 4,
      "outputs": [
        {
          "output_type": "error",
          "ename": "JSONDecodeError",
          "evalue": "ignored",
          "traceback": [
            "\u001b[0;31m---------------------------------------------------------------------------\u001b[0m",
            "\u001b[0;31mJSONDecodeError\u001b[0m                           Traceback (most recent call last)",
            "\u001b[0;32m<ipython-input-4-3d132385f89d>\u001b[0m in \u001b[0;36m<module>\u001b[0;34m()\u001b[0m\n\u001b[1;32m      5\u001b[0m \u001b[0;34m\u001b[0m\u001b[0m\n\u001b[1;32m      6\u001b[0m \u001b[0murl\u001b[0m \u001b[0;34m=\u001b[0m \u001b[0;34m'https://iex.lewagon.com/stable/stock/{}/chart/1y'\u001b[0m\u001b[0;34m\u001b[0m\u001b[0;34m\u001b[0m\u001b[0m\n\u001b[0;32m----> 7\u001b[0;31m \u001b[0mresult\u001b[0m \u001b[0;34m=\u001b[0m \u001b[0mrequests\u001b[0m\u001b[0;34m.\u001b[0m\u001b[0mget\u001b[0m\u001b[0;34m(\u001b[0m\u001b[0murl\u001b[0m\u001b[0;34m.\u001b[0m\u001b[0mformat\u001b[0m\u001b[0;34m(\u001b[0m\u001b[0msymbol\u001b[0m\u001b[0;34m)\u001b[0m\u001b[0;34m)\u001b[0m\u001b[0;34m.\u001b[0m\u001b[0mjson\u001b[0m\u001b[0;34m(\u001b[0m\u001b[0;34m)\u001b[0m\u001b[0;34m\u001b[0m\u001b[0;34m\u001b[0m\u001b[0m\n\u001b[0m\u001b[1;32m      8\u001b[0m \u001b[0mresult\u001b[0m\u001b[0;34m\u001b[0m\u001b[0;34m\u001b[0m\u001b[0m\n\u001b[1;32m      9\u001b[0m \u001b[0mdf\u001b[0m \u001b[0;34m=\u001b[0m \u001b[0mpd\u001b[0m\u001b[0;34m.\u001b[0m\u001b[0mDataFrame\u001b[0m\u001b[0;34m(\u001b[0m\u001b[0mresult\u001b[0m\u001b[0;34m)\u001b[0m\u001b[0;34m\u001b[0m\u001b[0;34m\u001b[0m\u001b[0m\n",
            "\u001b[0;32m/usr/local/lib/python3.7/dist-packages/requests/models.py\u001b[0m in \u001b[0;36mjson\u001b[0;34m(self, **kwargs)\u001b[0m\n\u001b[1;32m    888\u001b[0m                 \u001b[0;32mtry\u001b[0m\u001b[0;34m:\u001b[0m\u001b[0;34m\u001b[0m\u001b[0;34m\u001b[0m\u001b[0m\n\u001b[1;32m    889\u001b[0m                     return complexjson.loads(\n\u001b[0;32m--> 890\u001b[0;31m                         \u001b[0mself\u001b[0m\u001b[0;34m.\u001b[0m\u001b[0mcontent\u001b[0m\u001b[0;34m.\u001b[0m\u001b[0mdecode\u001b[0m\u001b[0;34m(\u001b[0m\u001b[0mencoding\u001b[0m\u001b[0;34m)\u001b[0m\u001b[0;34m,\u001b[0m \u001b[0;34m**\u001b[0m\u001b[0mkwargs\u001b[0m\u001b[0;34m\u001b[0m\u001b[0;34m\u001b[0m\u001b[0m\n\u001b[0m\u001b[1;32m    891\u001b[0m                     )\n\u001b[1;32m    892\u001b[0m                 \u001b[0;32mexcept\u001b[0m \u001b[0mUnicodeDecodeError\u001b[0m\u001b[0;34m:\u001b[0m\u001b[0;34m\u001b[0m\u001b[0;34m\u001b[0m\u001b[0m\n",
            "\u001b[0;32m/usr/lib/python3.7/json/__init__.py\u001b[0m in \u001b[0;36mloads\u001b[0;34m(s, encoding, cls, object_hook, parse_float, parse_int, parse_constant, object_pairs_hook, **kw)\u001b[0m\n\u001b[1;32m    346\u001b[0m             \u001b[0mparse_int\u001b[0m \u001b[0;32mis\u001b[0m \u001b[0;32mNone\u001b[0m \u001b[0;32mand\u001b[0m \u001b[0mparse_float\u001b[0m \u001b[0;32mis\u001b[0m \u001b[0;32mNone\u001b[0m \u001b[0;32mand\u001b[0m\u001b[0;34m\u001b[0m\u001b[0;34m\u001b[0m\u001b[0m\n\u001b[1;32m    347\u001b[0m             parse_constant is None and object_pairs_hook is None and not kw):\n\u001b[0;32m--> 348\u001b[0;31m         \u001b[0;32mreturn\u001b[0m \u001b[0m_default_decoder\u001b[0m\u001b[0;34m.\u001b[0m\u001b[0mdecode\u001b[0m\u001b[0;34m(\u001b[0m\u001b[0ms\u001b[0m\u001b[0;34m)\u001b[0m\u001b[0;34m\u001b[0m\u001b[0;34m\u001b[0m\u001b[0m\n\u001b[0m\u001b[1;32m    349\u001b[0m     \u001b[0;32mif\u001b[0m \u001b[0mcls\u001b[0m \u001b[0;32mis\u001b[0m \u001b[0;32mNone\u001b[0m\u001b[0;34m:\u001b[0m\u001b[0;34m\u001b[0m\u001b[0;34m\u001b[0m\u001b[0m\n\u001b[1;32m    350\u001b[0m         \u001b[0mcls\u001b[0m \u001b[0;34m=\u001b[0m \u001b[0mJSONDecoder\u001b[0m\u001b[0;34m\u001b[0m\u001b[0;34m\u001b[0m\u001b[0m\n",
            "\u001b[0;32m/usr/lib/python3.7/json/decoder.py\u001b[0m in \u001b[0;36mdecode\u001b[0;34m(self, s, _w)\u001b[0m\n\u001b[1;32m    335\u001b[0m \u001b[0;34m\u001b[0m\u001b[0m\n\u001b[1;32m    336\u001b[0m         \"\"\"\n\u001b[0;32m--> 337\u001b[0;31m         \u001b[0mobj\u001b[0m\u001b[0;34m,\u001b[0m \u001b[0mend\u001b[0m \u001b[0;34m=\u001b[0m \u001b[0mself\u001b[0m\u001b[0;34m.\u001b[0m\u001b[0mraw_decode\u001b[0m\u001b[0;34m(\u001b[0m\u001b[0ms\u001b[0m\u001b[0;34m,\u001b[0m \u001b[0midx\u001b[0m\u001b[0;34m=\u001b[0m\u001b[0m_w\u001b[0m\u001b[0;34m(\u001b[0m\u001b[0ms\u001b[0m\u001b[0;34m,\u001b[0m \u001b[0;36m0\u001b[0m\u001b[0;34m)\u001b[0m\u001b[0;34m.\u001b[0m\u001b[0mend\u001b[0m\u001b[0;34m(\u001b[0m\u001b[0;34m)\u001b[0m\u001b[0;34m)\u001b[0m\u001b[0;34m\u001b[0m\u001b[0;34m\u001b[0m\u001b[0m\n\u001b[0m\u001b[1;32m    338\u001b[0m         \u001b[0mend\u001b[0m \u001b[0;34m=\u001b[0m \u001b[0m_w\u001b[0m\u001b[0;34m(\u001b[0m\u001b[0ms\u001b[0m\u001b[0;34m,\u001b[0m \u001b[0mend\u001b[0m\u001b[0;34m)\u001b[0m\u001b[0;34m.\u001b[0m\u001b[0mend\u001b[0m\u001b[0;34m(\u001b[0m\u001b[0;34m)\u001b[0m\u001b[0;34m\u001b[0m\u001b[0;34m\u001b[0m\u001b[0m\n\u001b[1;32m    339\u001b[0m         \u001b[0;32mif\u001b[0m \u001b[0mend\u001b[0m \u001b[0;34m!=\u001b[0m \u001b[0mlen\u001b[0m\u001b[0;34m(\u001b[0m\u001b[0ms\u001b[0m\u001b[0;34m)\u001b[0m\u001b[0;34m:\u001b[0m\u001b[0;34m\u001b[0m\u001b[0;34m\u001b[0m\u001b[0m\n",
            "\u001b[0;32m/usr/lib/python3.7/json/decoder.py\u001b[0m in \u001b[0;36mraw_decode\u001b[0;34m(self, s, idx)\u001b[0m\n\u001b[1;32m    353\u001b[0m             \u001b[0mobj\u001b[0m\u001b[0;34m,\u001b[0m \u001b[0mend\u001b[0m \u001b[0;34m=\u001b[0m \u001b[0mself\u001b[0m\u001b[0;34m.\u001b[0m\u001b[0mscan_once\u001b[0m\u001b[0;34m(\u001b[0m\u001b[0ms\u001b[0m\u001b[0;34m,\u001b[0m \u001b[0midx\u001b[0m\u001b[0;34m)\u001b[0m\u001b[0;34m\u001b[0m\u001b[0;34m\u001b[0m\u001b[0m\n\u001b[1;32m    354\u001b[0m         \u001b[0;32mexcept\u001b[0m \u001b[0mStopIteration\u001b[0m \u001b[0;32mas\u001b[0m \u001b[0merr\u001b[0m\u001b[0;34m:\u001b[0m\u001b[0;34m\u001b[0m\u001b[0;34m\u001b[0m\u001b[0m\n\u001b[0;32m--> 355\u001b[0;31m             \u001b[0;32mraise\u001b[0m \u001b[0mJSONDecodeError\u001b[0m\u001b[0;34m(\u001b[0m\u001b[0;34m\"Expecting value\"\u001b[0m\u001b[0;34m,\u001b[0m \u001b[0ms\u001b[0m\u001b[0;34m,\u001b[0m \u001b[0merr\u001b[0m\u001b[0;34m.\u001b[0m\u001b[0mvalue\u001b[0m\u001b[0;34m)\u001b[0m \u001b[0;32mfrom\u001b[0m \u001b[0;32mNone\u001b[0m\u001b[0;34m\u001b[0m\u001b[0;34m\u001b[0m\u001b[0m\n\u001b[0m\u001b[1;32m    356\u001b[0m         \u001b[0;32mreturn\u001b[0m \u001b[0mobj\u001b[0m\u001b[0;34m,\u001b[0m \u001b[0mend\u001b[0m\u001b[0;34m\u001b[0m\u001b[0;34m\u001b[0m\u001b[0m\n",
            "\u001b[0;31mJSONDecodeError\u001b[0m: Expecting value: line 1 column 1 (char 0)"
          ]
        }
      ]
    },
    {
      "cell_type": "code",
      "source": [
        "go.Figure(data = [\n",
        "                  go.Candlestick(\n",
        "                      x=df.index,\n",
        "                      open = df['uOpen'],\n",
        "                      high = df['uHigh'],\n",
        "                      low = df['uLow'],\n",
        "                      close = df['uClose'],\n",
        "                                 )\n",
        "])"
      ],
      "metadata": {
        "id": "-kKuRDeWMX9F",
        "outputId": "76c34d53-3146-4bb7-d8b7-d915f5c77199",
        "colab": {
          "base_uri": "https://localhost:8080/",
          "height": 542
        }
      },
      "execution_count": 15,
      "outputs": [
        {
          "output_type": "display_data",
          "data": {
            "text/html": [
              "<html>\n",
              "<head><meta charset=\"utf-8\" /></head>\n",
              "<body>\n",
              "    <div>            <script src=\"https://cdnjs.cloudflare.com/ajax/libs/mathjax/2.7.5/MathJax.js?config=TeX-AMS-MML_SVG\"></script><script type=\"text/javascript\">if (window.MathJax) {MathJax.Hub.Config({SVG: {font: \"STIX-Web\"}});}</script>                <script type=\"text/javascript\">window.PlotlyConfig = {MathJaxConfig: 'local'};</script>\n",
              "        <script src=\"https://cdn.plot.ly/plotly-2.8.3.min.js\"></script>                <div id=\"b4ac739a-72a0-4abf-bf36-c9cbd1b74083\" class=\"plotly-graph-div\" style=\"height:525px; width:100%;\"></div>            <script type=\"text/javascript\">                                    window.PLOTLYENV=window.PLOTLYENV || {};                                    if (document.getElementById(\"b4ac739a-72a0-4abf-bf36-c9cbd1b74083\")) {                    Plotly.newPlot(                        \"b4ac739a-72a0-4abf-bf36-c9cbd1b74083\",                        [{\"close\":[14500,13850,13750,13850,14000,14550,14700,14400,14350,13900,14250,14500,14550,14450,15200,14800,14400,13850,14050,13500,13550,13000,12900,12650,12450,12550,13050,13150,13250,13250,13600,13600,13550,13550,13650,13700,14350,13750,13650,13750,13800,13550,13400,12950,13100,13000,13300,13000,12650,12350,12600,12550,12600,12550,12750,12450,12450,12200,12250,12050,12200,12300,12200,11850,11700,11400,11300,11200,10650,10800,10250,10200,10350,10800,10800,10650,11100,11750,11700,11750,11650,11750,11700,12050,12100,12000,12200,12000,11900,11800,11600,11600,11250,11450,11900,11350,11000,10950,10450,10050,9600,10100,10250,10100,10450,10750,10850,10750,10650,10500,10500,10500,10850,11050,10850,10750,10500,11100,11350,11450,11300,12050,12550,12400,12200,11700,11700,11600,11700,11200,11550,11300,10850,10750,10900,11050,10550,9920,9100,9340,9450,9810,10100,10550,10550,10950,10900,10700,10450,10750,10600,10600,10250,10300,10200,10050,10050,10600,10450,10950,10950,11050,11050,11100,11250,11650,11600,11000,11000,10700,10600,10100,9900,9940,10150,9990,9650,9150,9100,8850,9170,9530,9700,9670,9650,9700,9880,9600,9030,8780,9050,9090,9360,9250,8960,9020,8630,8810,8880,9300,9160,9060,8730,8250,8600,8860,10100,10650,10450,10250,10400,10350,10350,10500,10900,10700,10850,11550,11100,11050,10600,10650,10700,10850,10150,10750,10400,10150,10200,10400,10350,10350,10400,10600,10700,10450,10250,10150,10200,10900,11150,10650,10150,10100],\"high\":[15100,14400,14350,14800,14100,14900,14950,14800,14550,14350,14350,14600,14750,14650,15200,17500,14950,14600,14200,13900,13850,13650,13250,13050,12750,12650,13100,13200,13300,13550,13750,14050,13700,13750,13800,14550,14550,14400,14100,13900,14050,13850,13900,13250,13350,13150,13500,13300,13050,12550,12950,12800,12800,12750,13000,12800,12750,12500,12300,12250,12300,12350,12450,12250,11850,11750,11500,11350,11300,10900,10800,10450,10850,10850,10900,10850,11100,11900,12000,11800,11850,11850,11750,12100,12200,12200,12250,12500,12300,12150,11900,11750,11550,11750,11900,11950,11250,11100,11050,10400,10400,10200,10250,10250,10450,10950,10950,11000,10900,10800,10750,10650,10850,11100,11100,10850,10800,11200,11400,11550,11550,12200,12700,12650,12500,12250,12000,11850,11700,11750,11550,11700,11350,11300,11000,11300,11250,10400,10150,9600,9470,9870,10200,10800,10900,11000,11200,10900,10700,10750,10800,10600,10650,11100,10400,10350,10200,10800,10600,11000,10950,11100,11100,11300,11500,11700,11800,11900,11300,11100,10800,10600,10350,10100,10250,10150,10000,9750,9480,9300,9190,9530,9730,9690,9790,9860,10150,9880,9420,9240,9110,9440,9370,9300,9230,9110,9080,8930,8930,9300,9280,9160,9040,8660,8880,8890,10800,10650,10750,10650,10500,10400,10350,10800,11250,10850,11150,11700,11200,11400,11000,10850,10800,11050,10750,11000,10550,10400,10250,10400,10400,10400,10450,10600,10700,10800,10300,10300,10350,11200,11250,11400,10650,10650],\"low\":[14450,13850,13600,13400,13700,13850,14500,14350,14250,13850,13850,14150,14300,14400,14300,14750,14300,13850,13650,13500,13500,12950,12650,12400,12300,12400,12550,12800,12850,12950,13200,13400,13300,13400,13500,13600,13750,13700,13600,13500,13600,13450,12950,12850,12950,12750,12850,12950,12500,12200,12350,12450,12450,12400,12500,12350,12300,12050,12100,11950,11950,12150,12100,11700,11300,11300,11150,10750,10550,10400,10150,9880,10250,10450,10500,10600,10450,11000,11700,11600,11550,11600,11500,11600,11900,11900,11800,11850,11900,11700,11600,11400,11150,11250,11300,11250,10800,10900,10350,9950,9600,9620,9990,9980,10000,10400,10650,10600,10600,10500,10350,10450,10500,10800,10750,10600,10500,10500,11000,11300,11200,11300,11900,12300,12000,11700,11600,11450,11300,11150,11000,11300,10500,10650,10750,10900,10550,9850,9000,8800,9100,9490,9690,9930,10400,10550,10700,10600,10350,10350,10550,10350,10150,10000,10200,10000,10000,10000,10350,10350,10700,10850,10850,10850,10800,11250,11300,10900,10850,10600,10450,10050,9860,9800,9880,9960,9610,9100,9030,8730,8590,9300,9400,9550,9590,9650,9800,9570,8820,8660,8950,8960,9000,9050,8950,8950,8630,8670,8720,8800,9070,8920,8700,8240,8440,8540,8820,9880,10350,10050,10150,10150,10150,10350,10350,10600,10750,10700,10900,10800,10500,10450,10600,10500,10050,10050,10300,10000,10050,10100,10150,10200,10250,10300,10400,10350,10100,9990,10100,10350,10500,10600,10000,10050],\"open\":[14800,14400,13750,13500,14000,14100,14500,14650,14350,14350,13950,14250,14550,14650,14400,16950,14550,14350,13700,13900,13550,13650,12950,12900,12650,12500,12600,13100,13150,13100,13350,13600,13600,13400,13600,13650,13800,14350,13650,13600,13650,13700,13800,13000,13100,13100,12850,13050,12900,12300,12600,12650,12550,12550,12500,12650,12450,12350,12200,12150,12150,12150,12400,12200,11800,11600,11350,11200,11100,10400,10500,10300,10500,10500,10850,10800,10550,11250,11900,11700,11700,11650,11750,11650,12050,12150,12000,12200,12200,11950,11800,11600,11450,11250,11300,11850,11100,10950,10750,10300,10150,9620,10150,10250,10100,10450,10950,10850,10800,10700,10500,10500,10500,10900,11100,10850,10750,10500,11100,11550,11450,11300,12100,12600,12350,11950,11750,11850,11500,11650,11200,11550,11150,10850,10850,11200,11250,10000,9930,9100,9120,9520,9820,10150,10600,10650,10750,10650,10550,10450,10750,10400,10550,10150,10300,10200,10050,10050,10550,10450,10900,10950,11000,10900,10950,11250,11500,11600,11100,11000,10550,10500,10150,9900,9880,9960,10000,9620,9050,9100,8900,9350,9440,9690,9600,9650,9800,9880,9400,9010,9100,9050,9100,9300,9090,8990,8960,8930,8720,8930,9270,9160,9040,8580,8440,8560,8870,10000,10450,10550,10250,10400,10250,10500,10550,10750,10800,10700,11100,10850,10850,10600,10600,10600,10700,10350,10500,10250,10050,10250,10250,10250,10300,10400,10600,10700,10100,10000,10300,10400,10650,10950,10650,10250],\"x\":[\"2021-05-10T00:00:00\",\"2021-05-11T00:00:00\",\"2021-05-12T00:00:00\",\"2021-05-13T00:00:00\",\"2021-05-14T00:00:00\",\"2021-05-17T00:00:00\",\"2021-05-18T00:00:00\",\"2021-05-20T00:00:00\",\"2021-05-21T00:00:00\",\"2021-05-24T00:00:00\",\"2021-05-25T00:00:00\",\"2021-05-26T00:00:00\",\"2021-05-27T00:00:00\",\"2021-05-28T00:00:00\",\"2021-05-31T00:00:00\",\"2021-06-01T00:00:00\",\"2021-06-02T00:00:00\",\"2021-06-03T00:00:00\",\"2021-06-04T00:00:00\",\"2021-06-07T00:00:00\",\"2021-06-08T00:00:00\",\"2021-06-09T00:00:00\",\"2021-06-10T00:00:00\",\"2021-06-11T00:00:00\",\"2021-06-14T00:00:00\",\"2021-06-15T00:00:00\",\"2021-06-16T00:00:00\",\"2021-06-17T00:00:00\",\"2021-06-18T00:00:00\",\"2021-06-21T00:00:00\",\"2021-06-22T00:00:00\",\"2021-06-23T00:00:00\",\"2021-06-24T00:00:00\",\"2021-06-25T00:00:00\",\"2021-06-28T00:00:00\",\"2021-06-29T00:00:00\",\"2021-06-30T00:00:00\",\"2021-07-01T00:00:00\",\"2021-07-02T00:00:00\",\"2021-07-05T00:00:00\",\"2021-07-06T00:00:00\",\"2021-07-07T00:00:00\",\"2021-07-08T00:00:00\",\"2021-07-12T00:00:00\",\"2021-07-13T00:00:00\",\"2021-07-14T00:00:00\",\"2021-07-15T00:00:00\",\"2021-07-16T00:00:00\",\"2021-07-19T00:00:00\",\"2021-07-20T00:00:00\",\"2021-07-21T00:00:00\",\"2021-07-22T00:00:00\",\"2021-07-23T00:00:00\",\"2021-07-26T00:00:00\",\"2021-07-27T00:00:00\",\"2021-07-28T00:00:00\",\"2021-07-29T00:00:00\",\"2021-07-30T00:00:00\",\"2021-08-02T00:00:00\",\"2021-08-03T00:00:00\",\"2021-08-04T00:00:00\",\"2021-08-05T00:00:00\",\"2021-08-06T00:00:00\",\"2021-08-09T00:00:00\",\"2021-08-10T00:00:00\",\"2021-08-11T00:00:00\",\"2021-08-12T00:00:00\",\"2021-08-13T00:00:00\",\"2021-08-17T00:00:00\",\"2021-08-18T00:00:00\",\"2021-08-19T00:00:00\",\"2021-08-20T00:00:00\",\"2021-08-23T00:00:00\",\"2021-08-24T00:00:00\",\"2021-08-25T00:00:00\",\"2021-08-26T00:00:00\",\"2021-08-27T00:00:00\",\"2021-08-30T00:00:00\",\"2021-08-31T00:00:00\",\"2021-09-01T00:00:00\",\"2021-09-02T00:00:00\",\"2021-09-03T00:00:00\",\"2021-09-06T00:00:00\",\"2021-09-07T00:00:00\",\"2021-09-08T00:00:00\",\"2021-09-09T00:00:00\",\"2021-09-10T00:00:00\",\"2021-09-13T00:00:00\",\"2021-09-14T00:00:00\",\"2021-09-15T00:00:00\",\"2021-09-16T00:00:00\",\"2021-09-17T00:00:00\",\"2021-09-23T00:00:00\",\"2021-09-24T00:00:00\",\"2021-09-27T00:00:00\",\"2021-09-28T00:00:00\",\"2021-09-29T00:00:00\",\"2021-09-30T00:00:00\",\"2021-10-01T00:00:00\",\"2021-10-05T00:00:00\",\"2021-10-06T00:00:00\",\"2021-10-07T00:00:00\",\"2021-10-08T00:00:00\",\"2021-10-12T00:00:00\",\"2021-10-13T00:00:00\",\"2021-10-14T00:00:00\",\"2021-10-15T00:00:00\",\"2021-10-18T00:00:00\",\"2021-10-19T00:00:00\",\"2021-10-20T00:00:00\",\"2021-10-21T00:00:00\",\"2021-10-22T00:00:00\",\"2021-10-25T00:00:00\",\"2021-10-26T00:00:00\",\"2021-10-27T00:00:00\",\"2021-10-28T00:00:00\",\"2021-10-29T00:00:00\",\"2021-11-01T00:00:00\",\"2021-11-02T00:00:00\",\"2021-11-03T00:00:00\",\"2021-11-04T00:00:00\",\"2021-11-05T00:00:00\",\"2021-11-08T00:00:00\",\"2021-11-09T00:00:00\",\"2021-11-10T00:00:00\",\"2021-11-11T00:00:00\",\"2021-11-12T00:00:00\",\"2021-11-15T00:00:00\",\"2021-11-16T00:00:00\",\"2021-11-17T00:00:00\",\"2021-11-18T00:00:00\",\"2021-11-19T00:00:00\",\"2021-11-22T00:00:00\",\"2021-11-23T00:00:00\",\"2021-11-24T00:00:00\",\"2021-11-25T00:00:00\",\"2021-11-26T00:00:00\",\"2021-11-29T00:00:00\",\"2021-11-30T00:00:00\",\"2021-12-01T00:00:00\",\"2021-12-02T00:00:00\",\"2021-12-03T00:00:00\",\"2021-12-06T00:00:00\",\"2021-12-07T00:00:00\",\"2021-12-08T00:00:00\",\"2021-12-09T00:00:00\",\"2021-12-10T00:00:00\",\"2021-12-13T00:00:00\",\"2021-12-14T00:00:00\",\"2021-12-15T00:00:00\",\"2021-12-16T00:00:00\",\"2021-12-17T00:00:00\",\"2021-12-20T00:00:00\",\"2021-12-21T00:00:00\",\"2021-12-22T00:00:00\",\"2021-12-23T00:00:00\",\"2021-12-24T00:00:00\",\"2021-12-27T00:00:00\",\"2021-12-28T00:00:00\",\"2021-12-29T00:00:00\",\"2021-12-30T00:00:00\",\"2022-01-03T00:00:00\",\"2022-01-04T00:00:00\",\"2022-01-05T00:00:00\",\"2022-01-06T00:00:00\",\"2022-01-07T00:00:00\",\"2022-01-10T00:00:00\",\"2022-01-11T00:00:00\",\"2022-01-12T00:00:00\",\"2022-01-13T00:00:00\",\"2022-01-14T00:00:00\",\"2022-01-17T00:00:00\",\"2022-01-18T00:00:00\",\"2022-01-19T00:00:00\",\"2022-01-20T00:00:00\",\"2022-01-21T00:00:00\",\"2022-01-24T00:00:00\",\"2022-01-25T00:00:00\",\"2022-01-26T00:00:00\",\"2022-01-27T00:00:00\",\"2022-01-28T00:00:00\",\"2022-02-03T00:00:00\",\"2022-02-04T00:00:00\",\"2022-02-07T00:00:00\",\"2022-02-08T00:00:00\",\"2022-02-09T00:00:00\",\"2022-02-10T00:00:00\",\"2022-02-11T00:00:00\",\"2022-02-14T00:00:00\",\"2022-02-15T00:00:00\",\"2022-02-16T00:00:00\",\"2022-02-17T00:00:00\",\"2022-02-18T00:00:00\",\"2022-02-21T00:00:00\",\"2022-02-22T00:00:00\",\"2022-02-23T00:00:00\",\"2022-02-24T00:00:00\",\"2022-02-25T00:00:00\",\"2022-02-28T00:00:00\",\"2022-03-02T00:00:00\",\"2022-03-03T00:00:00\",\"2022-03-04T00:00:00\",\"2022-03-07T00:00:00\",\"2022-03-08T00:00:00\",\"2022-03-10T00:00:00\",\"2022-03-11T00:00:00\",\"2022-03-14T00:00:00\",\"2022-03-15T00:00:00\",\"2022-03-16T00:00:00\",\"2022-03-17T00:00:00\",\"2022-03-18T00:00:00\",\"2022-03-21T00:00:00\",\"2022-03-22T00:00:00\",\"2022-03-23T00:00:00\",\"2022-03-24T00:00:00\",\"2022-03-25T00:00:00\",\"2022-03-28T00:00:00\",\"2022-03-29T00:00:00\",\"2022-03-30T00:00:00\",\"2022-03-31T00:00:00\",\"2022-04-01T00:00:00\",\"2022-04-04T00:00:00\",\"2022-04-05T00:00:00\",\"2022-04-06T00:00:00\",\"2022-04-07T00:00:00\",\"2022-04-08T00:00:00\",\"2022-04-11T00:00:00\",\"2022-04-12T00:00:00\",\"2022-04-13T00:00:00\",\"2022-04-14T00:00:00\",\"2022-04-15T00:00:00\",\"2022-04-18T00:00:00\",\"2022-04-19T00:00:00\",\"2022-04-20T00:00:00\",\"2022-04-21T00:00:00\",\"2022-04-22T00:00:00\",\"2022-04-26T00:00:00\",\"2022-04-27T00:00:00\",\"2022-04-28T00:00:00\",\"2022-04-29T00:00:00\",\"2022-05-02T00:00:00\",\"2022-05-03T00:00:00\",\"2022-05-04T00:00:00\",\"2022-05-06T00:00:00\"],\"type\":\"candlestick\"}],                        {\"template\":{\"data\":{\"bar\":[{\"error_x\":{\"color\":\"#2a3f5f\"},\"error_y\":{\"color\":\"#2a3f5f\"},\"marker\":{\"line\":{\"color\":\"#E5ECF6\",\"width\":0.5},\"pattern\":{\"fillmode\":\"overlay\",\"size\":10,\"solidity\":0.2}},\"type\":\"bar\"}],\"barpolar\":[{\"marker\":{\"line\":{\"color\":\"#E5ECF6\",\"width\":0.5},\"pattern\":{\"fillmode\":\"overlay\",\"size\":10,\"solidity\":0.2}},\"type\":\"barpolar\"}],\"carpet\":[{\"aaxis\":{\"endlinecolor\":\"#2a3f5f\",\"gridcolor\":\"white\",\"linecolor\":\"white\",\"minorgridcolor\":\"white\",\"startlinecolor\":\"#2a3f5f\"},\"baxis\":{\"endlinecolor\":\"#2a3f5f\",\"gridcolor\":\"white\",\"linecolor\":\"white\",\"minorgridcolor\":\"white\",\"startlinecolor\":\"#2a3f5f\"},\"type\":\"carpet\"}],\"choropleth\":[{\"colorbar\":{\"outlinewidth\":0,\"ticks\":\"\"},\"type\":\"choropleth\"}],\"contour\":[{\"colorbar\":{\"outlinewidth\":0,\"ticks\":\"\"},\"colorscale\":[[0.0,\"#0d0887\"],[0.1111111111111111,\"#46039f\"],[0.2222222222222222,\"#7201a8\"],[0.3333333333333333,\"#9c179e\"],[0.4444444444444444,\"#bd3786\"],[0.5555555555555556,\"#d8576b\"],[0.6666666666666666,\"#ed7953\"],[0.7777777777777778,\"#fb9f3a\"],[0.8888888888888888,\"#fdca26\"],[1.0,\"#f0f921\"]],\"type\":\"contour\"}],\"contourcarpet\":[{\"colorbar\":{\"outlinewidth\":0,\"ticks\":\"\"},\"type\":\"contourcarpet\"}],\"heatmap\":[{\"colorbar\":{\"outlinewidth\":0,\"ticks\":\"\"},\"colorscale\":[[0.0,\"#0d0887\"],[0.1111111111111111,\"#46039f\"],[0.2222222222222222,\"#7201a8\"],[0.3333333333333333,\"#9c179e\"],[0.4444444444444444,\"#bd3786\"],[0.5555555555555556,\"#d8576b\"],[0.6666666666666666,\"#ed7953\"],[0.7777777777777778,\"#fb9f3a\"],[0.8888888888888888,\"#fdca26\"],[1.0,\"#f0f921\"]],\"type\":\"heatmap\"}],\"heatmapgl\":[{\"colorbar\":{\"outlinewidth\":0,\"ticks\":\"\"},\"colorscale\":[[0.0,\"#0d0887\"],[0.1111111111111111,\"#46039f\"],[0.2222222222222222,\"#7201a8\"],[0.3333333333333333,\"#9c179e\"],[0.4444444444444444,\"#bd3786\"],[0.5555555555555556,\"#d8576b\"],[0.6666666666666666,\"#ed7953\"],[0.7777777777777778,\"#fb9f3a\"],[0.8888888888888888,\"#fdca26\"],[1.0,\"#f0f921\"]],\"type\":\"heatmapgl\"}],\"histogram\":[{\"marker\":{\"pattern\":{\"fillmode\":\"overlay\",\"size\":10,\"solidity\":0.2}},\"type\":\"histogram\"}],\"histogram2d\":[{\"colorbar\":{\"outlinewidth\":0,\"ticks\":\"\"},\"colorscale\":[[0.0,\"#0d0887\"],[0.1111111111111111,\"#46039f\"],[0.2222222222222222,\"#7201a8\"],[0.3333333333333333,\"#9c179e\"],[0.4444444444444444,\"#bd3786\"],[0.5555555555555556,\"#d8576b\"],[0.6666666666666666,\"#ed7953\"],[0.7777777777777778,\"#fb9f3a\"],[0.8888888888888888,\"#fdca26\"],[1.0,\"#f0f921\"]],\"type\":\"histogram2d\"}],\"histogram2dcontour\":[{\"colorbar\":{\"outlinewidth\":0,\"ticks\":\"\"},\"colorscale\":[[0.0,\"#0d0887\"],[0.1111111111111111,\"#46039f\"],[0.2222222222222222,\"#7201a8\"],[0.3333333333333333,\"#9c179e\"],[0.4444444444444444,\"#bd3786\"],[0.5555555555555556,\"#d8576b\"],[0.6666666666666666,\"#ed7953\"],[0.7777777777777778,\"#fb9f3a\"],[0.8888888888888888,\"#fdca26\"],[1.0,\"#f0f921\"]],\"type\":\"histogram2dcontour\"}],\"mesh3d\":[{\"colorbar\":{\"outlinewidth\":0,\"ticks\":\"\"},\"type\":\"mesh3d\"}],\"parcoords\":[{\"line\":{\"colorbar\":{\"outlinewidth\":0,\"ticks\":\"\"}},\"type\":\"parcoords\"}],\"pie\":[{\"automargin\":true,\"type\":\"pie\"}],\"scatter\":[{\"marker\":{\"colorbar\":{\"outlinewidth\":0,\"ticks\":\"\"}},\"type\":\"scatter\"}],\"scatter3d\":[{\"line\":{\"colorbar\":{\"outlinewidth\":0,\"ticks\":\"\"}},\"marker\":{\"colorbar\":{\"outlinewidth\":0,\"ticks\":\"\"}},\"type\":\"scatter3d\"}],\"scattercarpet\":[{\"marker\":{\"colorbar\":{\"outlinewidth\":0,\"ticks\":\"\"}},\"type\":\"scattercarpet\"}],\"scattergeo\":[{\"marker\":{\"colorbar\":{\"outlinewidth\":0,\"ticks\":\"\"}},\"type\":\"scattergeo\"}],\"scattergl\":[{\"marker\":{\"colorbar\":{\"outlinewidth\":0,\"ticks\":\"\"}},\"type\":\"scattergl\"}],\"scattermapbox\":[{\"marker\":{\"colorbar\":{\"outlinewidth\":0,\"ticks\":\"\"}},\"type\":\"scattermapbox\"}],\"scatterpolar\":[{\"marker\":{\"colorbar\":{\"outlinewidth\":0,\"ticks\":\"\"}},\"type\":\"scatterpolar\"}],\"scatterpolargl\":[{\"marker\":{\"colorbar\":{\"outlinewidth\":0,\"ticks\":\"\"}},\"type\":\"scatterpolargl\"}],\"scatterternary\":[{\"marker\":{\"colorbar\":{\"outlinewidth\":0,\"ticks\":\"\"}},\"type\":\"scatterternary\"}],\"surface\":[{\"colorbar\":{\"outlinewidth\":0,\"ticks\":\"\"},\"colorscale\":[[0.0,\"#0d0887\"],[0.1111111111111111,\"#46039f\"],[0.2222222222222222,\"#7201a8\"],[0.3333333333333333,\"#9c179e\"],[0.4444444444444444,\"#bd3786\"],[0.5555555555555556,\"#d8576b\"],[0.6666666666666666,\"#ed7953\"],[0.7777777777777778,\"#fb9f3a\"],[0.8888888888888888,\"#fdca26\"],[1.0,\"#f0f921\"]],\"type\":\"surface\"}],\"table\":[{\"cells\":{\"fill\":{\"color\":\"#EBF0F8\"},\"line\":{\"color\":\"white\"}},\"header\":{\"fill\":{\"color\":\"#C8D4E3\"},\"line\":{\"color\":\"white\"}},\"type\":\"table\"}]},\"layout\":{\"annotationdefaults\":{\"arrowcolor\":\"#2a3f5f\",\"arrowhead\":0,\"arrowwidth\":1},\"autotypenumbers\":\"strict\",\"coloraxis\":{\"colorbar\":{\"outlinewidth\":0,\"ticks\":\"\"}},\"colorscale\":{\"diverging\":[[0,\"#8e0152\"],[0.1,\"#c51b7d\"],[0.2,\"#de77ae\"],[0.3,\"#f1b6da\"],[0.4,\"#fde0ef\"],[0.5,\"#f7f7f7\"],[0.6,\"#e6f5d0\"],[0.7,\"#b8e186\"],[0.8,\"#7fbc41\"],[0.9,\"#4d9221\"],[1,\"#276419\"]],\"sequential\":[[0.0,\"#0d0887\"],[0.1111111111111111,\"#46039f\"],[0.2222222222222222,\"#7201a8\"],[0.3333333333333333,\"#9c179e\"],[0.4444444444444444,\"#bd3786\"],[0.5555555555555556,\"#d8576b\"],[0.6666666666666666,\"#ed7953\"],[0.7777777777777778,\"#fb9f3a\"],[0.8888888888888888,\"#fdca26\"],[1.0,\"#f0f921\"]],\"sequentialminus\":[[0.0,\"#0d0887\"],[0.1111111111111111,\"#46039f\"],[0.2222222222222222,\"#7201a8\"],[0.3333333333333333,\"#9c179e\"],[0.4444444444444444,\"#bd3786\"],[0.5555555555555556,\"#d8576b\"],[0.6666666666666666,\"#ed7953\"],[0.7777777777777778,\"#fb9f3a\"],[0.8888888888888888,\"#fdca26\"],[1.0,\"#f0f921\"]]},\"colorway\":[\"#636efa\",\"#EF553B\",\"#00cc96\",\"#ab63fa\",\"#FFA15A\",\"#19d3f3\",\"#FF6692\",\"#B6E880\",\"#FF97FF\",\"#FECB52\"],\"font\":{\"color\":\"#2a3f5f\"},\"geo\":{\"bgcolor\":\"white\",\"lakecolor\":\"white\",\"landcolor\":\"#E5ECF6\",\"showlakes\":true,\"showland\":true,\"subunitcolor\":\"white\"},\"hoverlabel\":{\"align\":\"left\"},\"hovermode\":\"closest\",\"mapbox\":{\"style\":\"light\"},\"paper_bgcolor\":\"white\",\"plot_bgcolor\":\"#E5ECF6\",\"polar\":{\"angularaxis\":{\"gridcolor\":\"white\",\"linecolor\":\"white\",\"ticks\":\"\"},\"bgcolor\":\"#E5ECF6\",\"radialaxis\":{\"gridcolor\":\"white\",\"linecolor\":\"white\",\"ticks\":\"\"}},\"scene\":{\"xaxis\":{\"backgroundcolor\":\"#E5ECF6\",\"gridcolor\":\"white\",\"gridwidth\":2,\"linecolor\":\"white\",\"showbackground\":true,\"ticks\":\"\",\"zerolinecolor\":\"white\"},\"yaxis\":{\"backgroundcolor\":\"#E5ECF6\",\"gridcolor\":\"white\",\"gridwidth\":2,\"linecolor\":\"white\",\"showbackground\":true,\"ticks\":\"\",\"zerolinecolor\":\"white\"},\"zaxis\":{\"backgroundcolor\":\"#E5ECF6\",\"gridcolor\":\"white\",\"gridwidth\":2,\"linecolor\":\"white\",\"showbackground\":true,\"ticks\":\"\",\"zerolinecolor\":\"white\"}},\"shapedefaults\":{\"line\":{\"color\":\"#2a3f5f\"}},\"ternary\":{\"aaxis\":{\"gridcolor\":\"white\",\"linecolor\":\"white\",\"ticks\":\"\"},\"baxis\":{\"gridcolor\":\"white\",\"linecolor\":\"white\",\"ticks\":\"\"},\"bgcolor\":\"#E5ECF6\",\"caxis\":{\"gridcolor\":\"white\",\"linecolor\":\"white\",\"ticks\":\"\"}},\"title\":{\"x\":0.05},\"xaxis\":{\"automargin\":true,\"gridcolor\":\"white\",\"linecolor\":\"white\",\"ticks\":\"\",\"title\":{\"standoff\":15},\"zerolinecolor\":\"white\",\"zerolinewidth\":2},\"yaxis\":{\"automargin\":true,\"gridcolor\":\"white\",\"linecolor\":\"white\",\"ticks\":\"\",\"title\":{\"standoff\":15},\"zerolinecolor\":\"white\",\"zerolinewidth\":2}}}},                        {\"responsive\": true}                    ).then(function(){\n",
              "                            \n",
              "var gd = document.getElementById('b4ac739a-72a0-4abf-bf36-c9cbd1b74083');\n",
              "var x = new MutationObserver(function (mutations, observer) {{\n",
              "        var display = window.getComputedStyle(gd).display;\n",
              "        if (!display || display === 'none') {{\n",
              "            console.log([gd, 'removed!']);\n",
              "            Plotly.purge(gd);\n",
              "            observer.disconnect();\n",
              "        }}\n",
              "}});\n",
              "\n",
              "// Listen for the removal of the full notebook cells\n",
              "var notebookContainer = gd.closest('#notebook-container');\n",
              "if (notebookContainer) {{\n",
              "    x.observe(notebookContainer, {childList: true});\n",
              "}}\n",
              "\n",
              "// Listen for the clearing of the current output cell\n",
              "var outputEl = gd.closest('.output');\n",
              "if (outputEl) {{\n",
              "    x.observe(outputEl, {childList: true});\n",
              "}}\n",
              "\n",
              "                        })                };                            </script>        </div>\n",
              "</body>\n",
              "</html>"
            ]
          },
          "metadata": {}
        }
      ]
    },
    {
      "cell_type": "code",
      "source": [
        ""
      ],
      "metadata": {
        "id": "SCdAtnWbdBpH"
      },
      "execution_count": null,
      "outputs": []
    }
  ],
  "metadata": {
    "kernelspec": {
      "display_name": "Python 3",
      "language": "python",
      "name": "python3"
    },
    "language_info": {
      "codemirror_mode": {
        "name": "ipython",
        "version": 3
      },
      "file_extension": ".py",
      "mimetype": "text/x-python",
      "name": "python",
      "nbconvert_exporter": "python",
      "pygments_lexer": "ipython3",
      "version": "3.7.6"
    },
    "colab": {
      "name": "Stock_Analysis.ipynb",
      "provenance": [],
      "include_colab_link": true
    }
  },
  "nbformat": 4,
  "nbformat_minor": 0
}