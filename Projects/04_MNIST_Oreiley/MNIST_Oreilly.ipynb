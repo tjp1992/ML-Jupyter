{
  "nbformat": 4,
  "nbformat_minor": 0,
  "metadata": {
    "colab": {
      "name": "MNIST_Oreilly.ipynb",
      "provenance": [],
      "authorship_tag": "ABX9TyN3vTMpNZ4oGdKOoNIi4HFS",
      "include_colab_link": true
    },
    "kernelspec": {
      "name": "python3",
      "display_name": "Python 3"
    },
    "language_info": {
      "name": "python"
    }
  },
  "cells": [
    {
      "cell_type": "markdown",
      "metadata": {
        "id": "view-in-github",
        "colab_type": "text"
      },
      "source": [
        "<a href=\"https://colab.research.google.com/github/tjp1992/ML-Jupyter/blob/main/Projects/04_MNIST_Oreiley/MNIST_Oreilly.ipynb\" target=\"_parent\"><img src=\"https://colab.research.google.com/assets/colab-badge.svg\" alt=\"Open In Colab\"/></a>"
      ]
    },
    {
      "cell_type": "markdown",
      "source": [
        "# MNIST Classification\n",
        "\n",
        "Following project contains steps specified in [Hands on Machine Learning with Scikit-Learn and Tensorflow](https://www.amazon.com/s?k=hands+on+machine+learning+with+scikit-learn+and+tensorflow&sprefix=hands+on+ma%2Caps%2C326&ref=nb_sb_ss_ts-doa-p_4_11), and the notebook was intended for personal educational purposes. "
      ],
      "metadata": {
        "id": "8aIJoXbD2R3i"
      }
    },
    {
      "cell_type": "code",
      "source": [
        "import pandas as pd\n",
        "import numpy as np\n",
        "import matplotlib.pyplot as plt\n",
        "import seaborn as sns\n",
        "\n",
        "# Data Importation\n",
        "from sklearn.datasets import fetch_openml"
      ],
      "metadata": {
        "id": "5r6RQmVc6sZ4"
      },
      "execution_count": 4,
      "outputs": []
    },
    {
      "cell_type": "code",
      "source": [
        "mnist = fetch_openml('mnist_784', version=1)\n",
        "mnist.keys()"
      ],
      "metadata": {
        "colab": {
          "base_uri": "https://localhost:8080/"
        },
        "id": "6VABRxPk6aLC",
        "outputId": "d989f1ea-6462-46de-dd93-8219711c59f4"
      },
      "execution_count": 5,
      "outputs": [
        {
          "output_type": "execute_result",
          "data": {
            "text/plain": [
              "dict_keys(['data', 'target', 'frame', 'categories', 'feature_names', 'target_names', 'DESCR', 'details', 'url'])"
            ]
          },
          "metadata": {},
          "execution_count": 5
        }
      ]
    },
    {
      "cell_type": "code",
      "source": [
        "X, y = mnist['data'], mnist['target']\n",
        "\n",
        "some_digit = X.iloc[0,:]"
      ],
      "metadata": {
        "id": "y74oruH3-Z_r"
      },
      "execution_count": 23,
      "outputs": []
    },
    {
      "cell_type": "code",
      "source": [
        "X.iloc[0,:].values.reshape(28,28)"
      ],
      "metadata": {
        "id": "d7nb91odAKgY",
        "outputId": "17846da4-f514-4b63-9b0a-533398c85a5d",
        "colab": {
          "base_uri": "https://localhost:8080/"
        }
      },
      "execution_count": 29,
      "outputs": [
        {
          "output_type": "execute_result",
          "data": {
            "text/plain": [
              "(28, 28)"
            ]
          },
          "metadata": {},
          "execution_count": 29
        }
      ]
    },
    {
      "cell_type": "code",
      "source": [
        "X, y = mnist['data'], mnist['target']\n",
        "\n",
        "# some_digit = X.iloc[0,:]\n",
        "# some_digit_img = some_digit.reshape((28,28))\n",
        "some_digit_img = X.iloc[0,:].values.reshape(28,28)\n",
        "\n",
        "plt.figure(figsize=(10,10))\n",
        "plt.imshow(some_digit_img, cmap='binary')\n",
        "plt.axis(\"off\")"
      ],
      "metadata": {
        "id": "qrS5141u6gG4",
        "outputId": "b4fc6a19-21a1-437f-adcf-72a51f56433b",
        "colab": {
          "base_uri": "https://localhost:8080/",
          "height": 594
        }
      },
      "execution_count": 37,
      "outputs": [
        {
          "output_type": "execute_result",
          "data": {
            "text/plain": [
              "(-0.5, 27.5, 27.5, -0.5)"
            ]
          },
          "metadata": {},
          "execution_count": 37
        },
        {
          "output_type": "display_data",
          "data": {
            "text/plain": [
              "<Figure size 720x720 with 1 Axes>"
            ],
            "image/png": "[encoded data removed]"
          },
          "metadata": {
            "needs_background": "light"
          }
        }
      ]
    },
    {
      "cell_type": "code",
      "source": [
        "X_train, X_test, y_train, y_test = X.iloc[:60000,:], X.iloc[60000:,:], y[:60000], y[60000:]\n",
        "X_train.shape"
      ],
      "metadata": {
        "id": "uo7s4drJDcHf",
        "outputId": "ab7a5f40-778c-4f4f-e98c-dca686d9edf0",
        "colab": {
          "base_uri": "https://localhost:8080/"
        }
      },
      "execution_count": 40,
      "outputs": [
        {
          "output_type": "execute_result",
          "data": {
            "text/plain": [
              "(60000, 784)"
            ]
          },
          "metadata": {},
          "execution_count": 40
        }
      ]
    },
    {
      "cell_type": "code",
      "source": [
        "A = np.array([\n",
        "              [1,2,3],\n",
        "              [0,0,0]\n",
        "])\n",
        "\n",
        "A_T = A.T\n",
        "\n",
        "print(A)\n",
        "print(A_T)"
      ],
      "metadata": {
        "id": "khuMgdpbD0LC",
        "outputId": "bd224b37-6967-4c40-906f-256cf126db5c",
        "colab": {
          "base_uri": "https://localhost:8080/"
        }
      },
      "execution_count": 44,
      "outputs": [
        {
          "output_type": "stream",
          "name": "stdout",
          "text": [
            "[[1 2 3]\n",
            " [0 0 0]]\n",
            "[[1 0]\n",
            " [2 0]\n",
            " [3 0]]\n"
          ]
        }
      ]
    }
  ]
}