{
  "nbformat": 4,
  "nbformat_minor": 0,
  "metadata": {
    "colab": {
      "name": "MNIST_Oreilly.ipynb",
      "provenance": [],
      "authorship_tag": "ABX9TyP9FqhteOIGdA+UQ42FrcPd",
      "include_colab_link": true
    },
    "kernelspec": {
      "name": "python3",
      "display_name": "Python 3"
    },
    "language_info": {
      "name": "python"
    }
  },
  "cells": [
    {
      "cell_type": "markdown",
      "metadata": {
        "id": "view-in-github",
        "colab_type": "text"
      },
      "source": [
        "<a href=\"https://colab.research.google.com/github/tjp1992/ML-Jupyter/blob/main/Projects/04_MNIST_Oreiley/MNIST_Oreilly.ipynb\" target=\"_parent\"><img src=\"https://colab.research.google.com/assets/colab-badge.svg\" alt=\"Open In Colab\"/></a>"
      ]
    },
    {
      "cell_type": "code",
      "execution_count": null,
      "metadata": {
        "id": "8aIJoXbD2R3i"
      },
      "outputs": [],
      "source": [
        ""
      ]
    }
  ]
}